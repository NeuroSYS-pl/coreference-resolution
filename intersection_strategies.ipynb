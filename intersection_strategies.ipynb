{
 "metadata": {
  "language_info": {
   "codemirror_mode": {
    "name": "ipython",
    "version": 3
   },
   "file_extension": ".py",
   "mimetype": "text/x-python",
   "name": "python",
   "nbconvert_exporter": "python",
   "pygments_lexer": "ipython3",
   "version": "3.6.12-final"
  },
  "orig_nbformat": 2,
  "kernelspec": {
   "name": "python3",
   "display_name": "Python 3.6.12 64-bit ('anaphors': conda)",
   "metadata": {
    "interpreter": {
     "hash": "d03d5abba74e86978e68a6ade085aee69b84e82c031d22c409c19824e6ca40c1"
    }
   }
  }
 },
 "nbformat": 4,
 "nbformat_minor": 2,
 "cells": [
  {
   "cell_type": "code",
   "execution_count": 1,
   "metadata": {},
   "outputs": [],
   "source": [
    "from utils import load_models, print_clusters\n",
    "from utils import IntersectionStrategy, StrictIntersectionStrategy, PartialIntersectionStrategy, FuzzyIntersectionStrategy"
   ]
  },
  {
   "cell_type": "code",
   "execution_count": 3,
   "metadata": {},
   "outputs": [],
   "source": [
    "predictor, nlp = load_models()"
   ]
  },
  {
   "source": [
    "## Models intersection strategies (ensemble)\n",
    "\n",
    "We use two models: **AllenNLP** and **Huggingface**. In multiple tests AllenNLP turned out much better - it has better precision and recall (on [Google GAP dataset](https://github.com/google-research-datasets/gap-coreference)), and finds much more clusters at all. That's why we decide to take <ins>AllenNLP answers as a ground truth</ins>.   \n",
    "However AllenNLP also makes mistakes - it has about 8% of false positives which we would like to minimize. That's why we propose **several intersections of AllenNLP and Huggingface outputs (an ensemble)** to modify the results and gain more confidence about the final clusters.  \n",
    "\n",
    "We propose four intersection strategies:\n",
    "- **strict** - we take only those clusters that are identical both in AllenNLP and Huggingface (intersection of clusters)\n",
    "- **partial** - we take all of the spans that are identical both in AllenNLP and Huggingface (intersection of spans/mentions)\n",
    "- **fuzzy** - we take all of the spans that are the same but also we find spans that overlap (are relating to the same entity but are composed of different number of tokens) and choose the shorter one"
   ],
   "cell_type": "markdown",
   "metadata": {}
  },
  {
   "source": [
    "## Example\n",
    "**Text**  \n",
    "*In 1311 it was settled on Peter and Lucy for life with remainder to William Everard and his wife Beatrice. Peter had died by 1329 but Lucy lived until 1337 and she was succeeded by William Everard who died in 1343. William's son, Sir Edmund Everard inherited and maintained ownership jointly with his wife Felice until he died in 1370.*  \n",
    "\n",
    "**AllenNLP clusters**   \n",
    "William Everard --> William Everard; his; William Everard who died in 1343; William's   \n",
    "Peter --> Peter; Peter   \n",
    "Lucy --> Lucy; Lucy; she   \n",
    "William's son, Sir Edmund Everard --> William's son, Sir Edmund Everard; his; he\n",
    "\n",
    "**Huggingface clusters**  \n",
    "William Everard --> William Everard; his; William Everard; Sir Edmund Everard; his  \n",
    "Peter --> Peter; Peter; he  \n",
    "Lucy --> Lucy; Lucy; she  \n",
    "his wife Beatrice --> his wife Beatrice; his wife Felice\n",
    "\n",
    "### Strategies\n",
    "\n",
    "1. **Strict**  \n",
    "    Lucy --> Lucy; Lucy; she\n",
    "\n",
    "2. **Partial**  \n",
    "    William Everard --> William Everard; his  \n",
    "    Peter --> Peter; Peter  \n",
    "    Lucy --> Lucy; Lucy; she\n",
    "\n",
    "3. **Fuzzy**  \n",
    "    William Everard --> William Everard; his; William Everard  \n",
    "    Peter --> Peter; Peter  \n",
    "    Lucy --> Lucy; Lucy; she  \n",
    "    Sir Edmund Everard --> Sir Edmund Everard; his  \n",
    "\n"
   ],
   "cell_type": "markdown",
   "metadata": {}
  },
  {
   "cell_type": "code",
   "execution_count": 4,
   "metadata": {},
   "outputs": [],
   "source": [
    "text = \"Austin Jermaine Wiley (born January 8, 1999) is an American basketball player. He currently plays for the Auburn Tigers in the Southeastern Conference. Wiley attended Spain Park High School in Hoover, Alabama, where he averaged 27.1 points, 12.7 rebounds and 2.9 blocked shots as a junior in 2015-16, before moving to Florida, where he went to Calusa Preparatory School in Miami, Florida, while playing basketball at The Conrad Academy in Orlando.\"\n",
    "\n",
    "clusters = predictor.predict(text)['clusters']\n",
    "doc = nlp(text)"
   ]
  },
  {
   "cell_type": "code",
   "execution_count": 5,
   "metadata": {},
   "outputs": [
    {
     "output_type": "stream",
     "name": "stdout",
     "text": [
      "~~~ AllenNLP clusters ~~~\nAustin Jermaine Wiley - [Austin Jermaine Wiley; He; Wiley; he; he]\nFlorida - [Florida; Florida]\n\n~~~ Huggingface clusters ~~~\nWiley: [Austin Jermaine Wiley (born January 8, 1999), He, Wiley, he, he]\nFlorida: [Florida, Florida]\n"
     ]
    }
   ],
   "source": [
    "print(\"~~~ AllenNLP clusters ~~~\")\n",
    "print_clusters(doc, clusters)\n",
    "print(\"\\n~~~ Huggingface clusters ~~~\")\n",
    "for cluster in doc._.coref_clusters:\n",
    "    print(cluster)"
   ]
  },
  {
   "cell_type": "code",
   "execution_count": 6,
   "metadata": {},
   "outputs": [],
   "source": [
    "strict = StrictIntersectionStrategy(predictor, nlp)\n",
    "partial = PartialIntersectionStrategy(predictor, nlp)\n",
    "fuzzy = FuzzyIntersectionStrategy(predictor, nlp)"
   ]
  },
  {
   "cell_type": "code",
   "execution_count": 7,
   "metadata": {},
   "outputs": [
    {
     "output_type": "stream",
     "name": "stdout",
     "text": [
      "\n",
      "~~~ StrictIntersectionStrategy clusters ~~~\n",
      "Florida - [Florida; Florida]\n",
      "\n",
      "~~~ PartialIntersectionStrategy clusters ~~~\n",
      "Wiley - [He; Wiley; he; he]\n",
      "Florida - [Florida; Florida]\n",
      "\n",
      "~~~ FuzzyIntersectionStrategy clusters ~~~\n",
      "Austin Jermaine Wiley - [Austin Jermaine Wiley; He; Wiley; he; he]\n",
      "Florida - [Florida; Florida]\n"
     ]
    }
   ],
   "source": [
    "for intersection_strategy in [strict, partial, fuzzy]:\n",
    "    print(f'\\n~~~ {intersection_strategy.__class__.__name__} clusters ~~~')\n",
    "    print_clusters(doc, intersection_strategy.clusters(text))"
   ]
  }
 ]
}