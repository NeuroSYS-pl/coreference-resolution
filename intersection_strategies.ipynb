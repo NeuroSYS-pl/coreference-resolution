{
 "metadata": {
  "language_info": {
   "codemirror_mode": {
    "name": "ipython",
    "version": 3
   },
   "file_extension": ".py",
   "mimetype": "text/x-python",
   "name": "python",
   "nbconvert_exporter": "python",
   "pygments_lexer": "ipython3",
   "version": "3.6.12-final"
  },
  "orig_nbformat": 2,
  "kernelspec": {
   "name": "python3",
   "display_name": "Python 3.6.12 64-bit ('anaphors': conda)",
   "metadata": {
    "interpreter": {
     "hash": "d03d5abba74e86978e68a6ade085aee69b84e82c031d22c409c19824e6ca40c1"
    }
   }
  }
 },
 "nbformat": 4,
 "nbformat_minor": 2,
 "cells": [
  {
   "cell_type": "code",
   "execution_count": 1,
   "metadata": {},
   "outputs": [],
   "source": [
    "from utils import load_models, print_clusters\n",
    "from utils import IntersectionStrategy, StrictIntersectionStrategy, PartialIntersectionStrategy, FuzzyIntersectionStrategy"
   ]
  },
  {
   "cell_type": "code",
   "execution_count": 2,
   "metadata": {},
   "outputs": [
    {
     "output_type": "stream",
     "name": "stderr",
     "text": [
      "Some weights of BertModel were not initialized from the model checkpoint at SpanBERT/spanbert-large-cased and are newly initialized: ['bert.pooler.dense.weight', 'bert.pooler.dense.bias']\nYou should probably TRAIN this model on a down-stream task to be able to use it for predictions and inference.\n"
     ]
    }
   ],
   "source": [
    "predictor, nlp = load_models()"
   ]
  },
  {
   "cell_type": "code",
   "execution_count": 3,
   "metadata": {},
   "outputs": [],
   "source": [
    "strict = StrictIntersectionStrategy(predictor, nlp)\n",
    "partial = PartialIntersectionStrategy(predictor, nlp)\n",
    "fuzzy = FuzzyIntersectionStrategy(predictor, nlp)"
   ]
  },
  {
   "cell_type": "code",
   "execution_count": 16,
   "metadata": {},
   "outputs": [],
   "source": [
    "text = \"Austin Jermaine Wiley (born January 8, 1999) is an American basketball player. He currently plays for the Auburn Tigers in the Southeastern Conference. Wiley attended Spain Park High School in Hoover, Alabama, where he averaged 27.1 points, 12.7 rebounds and 2.9 blocked shots as a junior in 2015-16, before moving to Florida, where he went to Calusa Preparatory School in Miami, Florida, while playing basketball at The Conrad Academy in Orlando.\"\n",
    "\n",
    "_, _, _, document, clusters = predictor.predict(text).values()\n",
    "doc = nlp(text)"
   ]
  },
  {
   "cell_type": "code",
   "execution_count": 17,
   "metadata": {},
   "outputs": [
    {
     "output_type": "stream",
     "name": "stdout",
     "text": [
      "STRICT Intersection Strategy clusters:\n",
      "\n",
      "Florida - [Florida; Florida]\n"
     ]
    }
   ],
   "source": [
    "print('STRICT Intersection Strategy clusters:\\n')\n",
    "print_clusters(doc, strict.clusters(text))"
   ]
  },
  {
   "cell_type": "code",
   "execution_count": 18,
   "metadata": {},
   "outputs": [
    {
     "output_type": "stream",
     "name": "stdout",
     "text": [
      "PARTIAL Intersection Strategy clusters:\n",
      "\n",
      "Wiley - [He; Wiley; he; he]\n",
      "Florida - [Florida; Florida]\n"
     ]
    }
   ],
   "source": [
    "print('PARTIAL Intersection Strategy clusters:\\n')\n",
    "print_clusters(doc, partial.clusters(text))"
   ]
  },
  {
   "cell_type": "code",
   "execution_count": 19,
   "metadata": {},
   "outputs": [
    {
     "output_type": "stream",
     "name": "stdout",
     "text": [
      "FUZZY Intersection Strategy clusters:\n",
      "\n",
      "Austin Jermaine Wiley - [Austin Jermaine Wiley; He; Wiley; he; he]\n",
      "Florida - [Florida; Florida]\n"
     ]
    }
   ],
   "source": [
    "print('FUZZY Intersection Strategy clusters:\\n')\n",
    "print_clusters(doc, fuzzy.clusters(text))"
   ]
  },
  {
   "cell_type": "code",
   "execution_count": 20,
   "metadata": {},
   "outputs": [
    {
     "output_type": "stream",
     "name": "stdout",
     "text": [
      "Austin Jermaine Wiley - [Austin Jermaine Wiley; He; Wiley; he; he]\nFlorida - [Florida; Florida]\n"
     ]
    }
   ],
   "source": [
    "print_clusters(doc, clusters)"
   ]
  },
  {
   "cell_type": "code",
   "execution_count": 21,
   "metadata": {},
   "outputs": [
    {
     "output_type": "execute_result",
     "data": {
      "text/plain": [
       "[Wiley: [Austin Jermaine Wiley (born January 8, 1999), He, Wiley, he, he],\n",
       " Florida: [Florida, Florida]]"
      ]
     },
     "metadata": {},
     "execution_count": 21
    }
   ],
   "source": [
    "doc._.coref_clusters"
   ]
  },
  {
   "cell_type": "code",
   "execution_count": 22,
   "metadata": {},
   "outputs": [],
   "source": [
    "# import pandas as pd\n",
    "# from tqdm.notebook import tqdm\n",
    "\n",
    "# df = pd.read_csv('gap.tsv', delimiter='\\t')\n",
    "# gap_texts = df['Text'].to_list()"
   ]
  },
  {
   "cell_type": "code",
   "execution_count": 23,
   "metadata": {},
   "outputs": [],
   "source": [
    "# for i in tqdm(range(100)):\n",
    "#     text = gap_texts[i]\n",
    "#     clusters_strict = strict.clusters(text)\n",
    "#     clusters_partial = partial.clusters(text)\n",
    "#     clusters_fuzzy = fuzzy.clusters(text)\n",
    "#     if clusters_strict and clusters_strict != clusters_partial and clusters_partial != clusters_fuzzy:\n",
    "#         print(f\"{i}. {text}\\n\")"
   ]
  },
  {
   "cell_type": "code",
   "execution_count": null,
   "metadata": {},
   "outputs": [],
   "source": []
  }
 ]
}