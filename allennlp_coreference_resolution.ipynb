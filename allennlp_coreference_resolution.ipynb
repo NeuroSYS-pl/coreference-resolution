{
 "cells": [
  {
   "cell_type": "code",
   "execution_count": 1,
   "metadata": {},
   "outputs": [],
   "source": [
    "from allennlp.predictors.predictor import Predictor"
   ]
  },
  {
   "cell_type": "markdown",
   "metadata": {},
   "source": [
    "## Instantiate AllenNLP `Predictor`"
   ]
  },
  {
   "cell_type": "markdown",
   "metadata": {},
   "source": [
    "1. Load the same model that is used in the [demo](https://demo.allennlp.org/coreference-resolution) (*don't get alarmed by the warning - we don't need to fine-tune the model to use it*).\n",
    "2. Get the prediction :)"
   ]
  },
  {
   "cell_type": "code",
   "execution_count": 2,
   "metadata": {},
   "outputs": [
    {
     "name": "stderr",
     "output_type": "stream",
     "text": [
      "Some weights of BertModel were not initialized from the model checkpoint at SpanBERT/spanbert-large-cased and are newly initialized: ['bert.pooler.dense.weight', 'bert.pooler.dense.bias']\n",
      "You should probably TRAIN this model on a down-stream task to be able to use it for predictions and inference.\n"
     ]
    }
   ],
   "source": [
    "model_url = 'https://storage.googleapis.com/allennlp-public-models/coref-spanbert-large-2020.02.27.tar.gz'\n",
    "predictor = Predictor.from_path(model_url)"
   ]
  },
  {
   "cell_type": "code",
   "execution_count": 3,
   "metadata": {},
   "outputs": [],
   "source": [
    "text = \"Eva and Martha didn't want their friend Jenny to feel lonely so they invited her to the party in Las Vegas.\"\n",
    "prediction = predictor.predict(document=text)"
   ]
  },
  {
   "cell_type": "markdown",
   "metadata": {},
   "source": [
    "## Coreference resolution with `Allen Institute`"
   ]
  },
  {
   "cell_type": "markdown",
   "metadata": {},
   "source": [
    "What we get as a result (`prediction`) is a dictionary as Allen outputs multiple different information at once.   \n",
    "The ones that we found to be using the most are:\n",
    "\n",
    "|  Key                |  Type              |  Description\n",
    "|:--------------------------|:-------------------|:----------------------------------------------------\n",
    "| `top_spans`     | `List[List[int]]` | List of `spaCy` token indices pairs representing spans\n",
    "| `document` | `List[str]` | Document's tokens (from `spaCy`; but represented as string not Token)\n",
    "| `clusters` | `List[List[List[int]]]` | Clusters of spans (represented by token indices pairs)"
   ]
  },
  {
   "cell_type": "code",
   "execution_count": 4,
   "metadata": {},
   "outputs": [
    {
     "data": {
      "text/plain": [
       "\"Eva and Martha did n't want their friend Jenny to feel lonely so they invited her to the party in Las Vegas .\""
      ]
     },
     "execution_count": 4,
     "metadata": {},
     "output_type": "execute_result"
    }
   ],
   "source": [
    "# it's our original text (with extra whitespaces as we trivialy just joined tokens with ' ')\n",
    "' '.join(prediction['document'])"
   ]
  },
  {
   "cell_type": "code",
   "execution_count": 5,
   "metadata": {},
   "outputs": [
    {
     "data": {
      "text/plain": [
       "[[[0, 2], [6, 6], [13, 13]], [[6, 8], [15, 15]]]"
      ]
     },
     "execution_count": 5,
     "metadata": {},
     "output_type": "execute_result"
    }
   ],
   "source": [
    "# and the found clusters - however, they are not easily understood...\n",
    "prediction['clusters']"
   ]
  },
  {
   "cell_type": "code",
   "execution_count": 6,
   "metadata": {},
   "outputs": [
    {
     "data": {
      "text/plain": [
       "\"Eva and Martha didn't want Eva and Martha's friend Jenny to feel lonely so Eva and Martha invited their friend Jenny to the party in Las Vegas.\""
      ]
     },
     "execution_count": 6,
     "metadata": {},
     "output_type": "execute_result"
    }
   ],
   "source": [
    "# but that's how it looks after coreference resolution (notice the possessive!)\n",
    "predictor.coref_resolved(text)"
   ]
  },
  {
   "cell_type": "markdown",
   "metadata": {},
   "source": [
    "As Allen's coreference resolution `Predictor` has quite a limited number of functionalities, in order to turn its output to a more readable one, we need to manually write some functions:"
   ]
  },
  {
   "cell_type": "code",
   "execution_count": 7,
   "metadata": {},
   "outputs": [],
   "source": [
    "def get_span_words(span, document):\n",
    "    return ' '.join(document[span[0]:span[1]+1])\n",
    "\n",
    "def print_clusters(prediction):\n",
    "    document, clusters = prediction['document'], prediction['clusters']\n",
    "    for cluster in clusters:\n",
    "        print(get_span_words(cluster[0], document) + ': ', end='')\n",
    "        print(f\"[{'; '.join([get_span_words(span, document) for span in cluster])}]\")"
   ]
  },
  {
   "cell_type": "code",
   "execution_count": 8,
   "metadata": {},
   "outputs": [
    {
     "name": "stdout",
     "output_type": "stream",
     "text": [
      "Eva and Martha: [Eva and Martha; their; they]\n",
      "their friend Jenny: [their friend Jenny; her]\n"
     ]
    }
   ],
   "source": [
    "print_clusters(prediction)"
   ]
  }
 ],
 "metadata": {
  "kernelspec": {
   "display_name": "Python [conda env:anaphors] *",
   "language": "python",
   "name": "conda-env-anaphors-py"
  },
  "language_info": {
   "codemirror_mode": {
    "name": "ipython",
    "version": 3
   },
   "file_extension": ".py",
   "mimetype": "text/x-python",
   "name": "python",
   "nbconvert_exporter": "python",
   "pygments_lexer": "ipython3",
   "version": "3.6.12"
  }
 },
 "nbformat": 4,
 "nbformat_minor": 4
}
